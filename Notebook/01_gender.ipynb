{
 "cells": [
  {
   "cell_type": "markdown",
   "id": "05a2df24-92d9-473f-87eb-b2122e305ad6",
   "metadata": {},
   "source": [
    "### 01_gender.ipynb\n",
    "\n",
    "#### 🧩Purpose\n",
    "Identify the correlation between gender and insurance premiums.\n",
    "\n",
    "#### ✅Output\n",
    "Average premiums by gender\n",
    "Distribution away from the average premium by gender"
   ]
  },
  {
   "cell_type": "markdown",
   "id": "72411b7a-6cd9-4aca-8713-f6631854c0e7",
   "metadata": {},
   "source": [
    "___"
   ]
  },
  {
   "cell_type": "code",
   "execution_count": 7,
   "id": "404202b1-c33b-450f-9bf9-4002230760fd",
   "metadata": {},
   "outputs": [],
   "source": [
    "import pandas as pd\n",
    "from scipy import stats\n",
    "import matplotlib.pyplot as plt\n",
    "import seaborn as sns"
   ]
  },
  {
   "cell_type": "code",
   "execution_count": 8,
   "id": "8dcfa65e-2472-482d-9d8e-75d2704457f3",
   "metadata": {},
   "outputs": [
    {
     "data": {
      "text/html": [
       "<div>\n",
       "<style scoped>\n",
       "    .dataframe tbody tr th:only-of-type {\n",
       "        vertical-align: middle;\n",
       "    }\n",
       "\n",
       "    .dataframe tbody tr th {\n",
       "        vertical-align: top;\n",
       "    }\n",
       "\n",
       "    .dataframe thead th {\n",
       "        text-align: right;\n",
       "    }\n",
       "</style>\n",
       "<table border=\"1\" class=\"dataframe\">\n",
       "  <thead>\n",
       "    <tr style=\"text-align: right;\">\n",
       "      <th></th>\n",
       "      <th>age</th>\n",
       "      <th>sex</th>\n",
       "      <th>bmi</th>\n",
       "      <th>children</th>\n",
       "      <th>smoker</th>\n",
       "      <th>region</th>\n",
       "      <th>charges</th>\n",
       "    </tr>\n",
       "  </thead>\n",
       "  <tbody>\n",
       "    <tr>\n",
       "      <th>0</th>\n",
       "      <td>19</td>\n",
       "      <td>female</td>\n",
       "      <td>27.900</td>\n",
       "      <td>0</td>\n",
       "      <td>yes</td>\n",
       "      <td>southwest</td>\n",
       "      <td>16884.92400</td>\n",
       "    </tr>\n",
       "    <tr>\n",
       "      <th>1</th>\n",
       "      <td>18</td>\n",
       "      <td>male</td>\n",
       "      <td>33.770</td>\n",
       "      <td>1</td>\n",
       "      <td>no</td>\n",
       "      <td>southeast</td>\n",
       "      <td>1725.55230</td>\n",
       "    </tr>\n",
       "    <tr>\n",
       "      <th>2</th>\n",
       "      <td>28</td>\n",
       "      <td>male</td>\n",
       "      <td>33.000</td>\n",
       "      <td>3</td>\n",
       "      <td>no</td>\n",
       "      <td>southeast</td>\n",
       "      <td>4449.46200</td>\n",
       "    </tr>\n",
       "    <tr>\n",
       "      <th>3</th>\n",
       "      <td>33</td>\n",
       "      <td>male</td>\n",
       "      <td>22.705</td>\n",
       "      <td>0</td>\n",
       "      <td>no</td>\n",
       "      <td>northwest</td>\n",
       "      <td>21984.47061</td>\n",
       "    </tr>\n",
       "    <tr>\n",
       "      <th>4</th>\n",
       "      <td>32</td>\n",
       "      <td>male</td>\n",
       "      <td>28.880</td>\n",
       "      <td>0</td>\n",
       "      <td>no</td>\n",
       "      <td>northwest</td>\n",
       "      <td>3866.85520</td>\n",
       "    </tr>\n",
       "  </tbody>\n",
       "</table>\n",
       "</div>"
      ],
      "text/plain": [
       "   age     sex     bmi  children smoker     region      charges\n",
       "0   19  female  27.900         0    yes  southwest  16884.92400\n",
       "1   18    male  33.770         1     no  southeast   1725.55230\n",
       "2   28    male  33.000         3     no  southeast   4449.46200\n",
       "3   33    male  22.705         0     no  northwest  21984.47061\n",
       "4   32    male  28.880         0     no  northwest   3866.85520"
      ]
     },
     "execution_count": 8,
     "metadata": {},
     "output_type": "execute_result"
    }
   ],
   "source": [
    "# read insurance.csv and store it in df\n",
    "\n",
    "df=pd.read_csv('insurance.csv')\n",
    "df.head()"
   ]
  },
  {
   "cell_type": "code",
   "execution_count": 9,
   "id": "6072160a-7c3e-41a7-b9e6-b4cef551f19d",
   "metadata": {},
   "outputs": [],
   "source": [
    "# Extract only data with gender 'male' and store it in charges_male\n",
    "charges_male = df[df['sex'] == 'male']['charges']\n",
    "\n",
    "# Extract only data with gender 'female' and store it in charges_female\n",
    "charges_female = df[df['sex'] == 'female']['charges']"
   ]
  },
  {
   "cell_type": "code",
   "execution_count": 10,
   "id": "24604b3e-553f-4866-abdf-b2b49dc56b00",
   "metadata": {},
   "outputs": [
    {
     "name": "stdout",
     "output_type": "stream",
     "text": [
      "T-statistics: 2.097546590051688\n",
      "P-value (significant probability): 0.03613272100592976\n",
      "Conclusion: the difference in average premiums between men and women is statistically significant.\n"
     ]
    }
   ],
   "source": [
    "# Performing an independent sample t-test of two groups\n",
    "t_stat, p_value = stats.ttest_ind(charges_male, charges_female)\n",
    "\n",
    "print(f\"T-statistics: {t_stat}\")\n",
    "print(f\"P-value (significant probability): {p_value}\")\n",
    "\n",
    "# Determine statistical significance by checking that the p-value is less than 0.05\n",
    "if p_value < 0.05:\n",
    "    print(\"Conclusion: the difference in average premiums between men and women is statistically significant.\")\n",
    "else:\n",
    "    print(\"Conclusion: the difference in average premiums between men and women is not statistically significant.\")"
   ]
  },
  {
   "cell_type": "code",
   "execution_count": 11,
   "id": "0ff70e79-58c6-47d6-b5e7-55fac37a2e61",
   "metadata": {},
   "outputs": [
    {
     "data": {
      "image/png": "[encoded data removed]",
      "text/plain": [
       "<Figure size 800x600 with 1 Axes>"
      ]
     },
     "metadata": {},
     "output_type": "display_data"
    }
   ],
   "source": [
    "plt.figure(figsize=(8, 6))\n",
    "sns.boxplot(x='sex', y='charges', data=df)\n",
    "plt.title('Distribution of health insurance premiums by gender')\n",
    "plt.xlabel('Gender')\n",
    "plt.ylabel('Insurance cost')\n",
    "plt.show()"
   ]
  }
 ],
 "metadata": {
  "kernelspec": {
   "display_name": "Python [conda env:base] *",
   "language": "python",
   "name": "conda-base-py"
  },
  "language_info": {
   "codemirror_mode": {
    "name": "ipython",
    "version": 3
   },
   "file_extension": ".py",
   "mimetype": "text/x-python",
   "name": "python",
   "nbconvert_exporter": "python",
   "pygments_lexer": "ipython3",
   "version": "3.13.5"
  }
 },
 "nbformat": 4,
 "nbformat_minor": 5
}
